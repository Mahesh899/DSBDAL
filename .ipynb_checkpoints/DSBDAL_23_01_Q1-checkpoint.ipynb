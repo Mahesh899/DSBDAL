{
 "cells": [
  {
   "cell_type": "code",
   "execution_count": 2,
   "id": "c08373ba",
   "metadata": {},
   "outputs": [],
   "source": [
    "import numpy as np \n",
    "runs = np.array([    [45, 50, 30, 60, 25],    [10, 15, 5, 20, 12],    [80, 60, 75, 100, 90],    [25, 30, 20, 35, 40],    [0, 5, 10, 0, 2],    [50, 55, 60, 65, 70],    [35, 40, 45, 50, 55],    [100, 110, 120, 115, 125],    [10, 12, 15, 10, 8],    [70, 80, 85, 90, 95],    [40, 45, 50, 55, 60] ])"
   ]
  },
  {
   "cell_type": "code",
   "execution_count": 13,
   "id": "49a215ee",
   "metadata": {},
   "outputs": [
    {
     "name": "stdout",
     "output_type": "stream",
     "text": [
      "highest score made by any player: [210  62 405 150  17 300 225 570  55 420 250]\n"
     ]
    }
   ],
   "source": [
    "player_total_runs=np.sum(runs,axis=1)\n",
    "print(\"highest score made by any player:\",player_total_runs)"
   ]
  },
  {
   "cell_type": "code",
   "execution_count": 9,
   "id": "10793101",
   "metadata": {},
   "outputs": [
    {
     "name": "stdout",
     "output_type": "stream",
     "text": [
      "[ 60  20 100  40  10  70  55 125  15  95  60]\n"
     ]
    }
   ],
   "source": [
    "max_runs=np.max(runs , axis=1)\n",
    "print(\"highest score made by any player:\",max_runs)"
   ]
  },
  {
   "cell_type": "code",
   "execution_count": 11,
   "id": "3e5e3f11",
   "metadata": {},
   "outputs": [
    {
     "name": "stdout",
     "output_type": "stream",
     "text": [
      "[ 42.   12.4  81.   30.    3.4  60.   45.  114.   11.   84.   50. ]\n"
     ]
    }
   ],
   "source": [
    "avg_runs=np.mean(runs,axis=1)\n",
    "print(\"Average runs scored per match by eah player\",avg_runs)"
   ]
  },
  {
   "cell_type": "code",
   "execution_count": null,
   "id": "e7e0a3af",
   "metadata": {},
   "outputs": [],
   "source": []
  }
 ],
 "metadata": {
  "kernelspec": {
   "display_name": "Python 3 (ipykernel)",
   "language": "python",
   "name": "python3"
  },
  "language_info": {
   "codemirror_mode": {
    "name": "ipython",
    "version": 3
   },
   "file_extension": ".py",
   "mimetype": "text/x-python",
   "name": "python",
   "nbconvert_exporter": "python",
   "pygments_lexer": "ipython3",
   "version": "3.11.5"
  }
 },
 "nbformat": 4,
 "nbformat_minor": 5
}
