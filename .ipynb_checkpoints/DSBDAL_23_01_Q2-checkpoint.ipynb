{
 "cells": [
  {
   "cell_type": "code",
   "execution_count": 2,
   "id": "eb227dbd",
   "metadata": {},
   "outputs": [],
   "source": [
    "import numpy as np \n",
    "   # Sales data: rows = products, columns = days \n",
    "sales_data = np.array([    [150, 200, 250, 300, 400, 350, 500],    [120, 180, 210, 240, 310, 280, 400],    [100, 130, 190, 220, 300, 270, 350],   [80,  90,  150, 180, 240, 220, 300],     [50,  60,  80,  100, 130, 120, 180]   ])"
   ]
  },
  {
   "cell_type": "code",
   "execution_count": 5,
   "id": "36545b34",
   "metadata": {},
   "outputs": [
    {
     "name": "stdout",
     "output_type": "stream",
     "text": [
      "Shape of data is  (5, 7)\n"
     ]
    }
   ],
   "source": [
    "print(\"Shape of data is \",sales_data.shape)"
   ]
  },
  {
   "cell_type": "code",
   "execution_count": 7,
   "id": "d187a23c",
   "metadata": {},
   "outputs": [
    {
     "name": "stdout",
     "output_type": "stream",
     "text": [
      "Dimension of data is  2\n"
     ]
    }
   ],
   "source": [
    "print(\"Dimension of data is \",sales_data.ndim)"
   ]
  },
  {
   "cell_type": "code",
   "execution_count": 11,
   "id": "f2cc986f",
   "metadata": {},
   "outputs": [
    {
     "name": "stdout",
     "output_type": "stream",
     "text": [
      "Data type of data is  int32\n"
     ]
    }
   ],
   "source": [
    "print(\"Data type of data is \",sales_data.dtype)"
   ]
  },
  {
   "cell_type": "code",
   "execution_count": 12,
   "id": "3313c052",
   "metadata": {},
   "outputs": [
    {
     "name": "stdout",
     "output_type": "stream",
     "text": [
      "Data type of data is  35\n"
     ]
    }
   ],
   "source": [
    "print(\"Data type of data is \",sales_data.size)"
   ]
  },
  {
   "cell_type": "code",
   "execution_count": 14,
   "id": "ee2d28e9",
   "metadata": {},
   "outputs": [
    {
     "name": "stdout",
     "output_type": "stream",
     "text": [
      "Data type of data is  140\n"
     ]
    }
   ],
   "source": [
    "print(\"Data type of data is \",sales_data.size*sales_data.itemsize)"
   ]
  },
  {
   "cell_type": "code",
   "execution_count": 18,
   "id": "bb836cbf",
   "metadata": {},
   "outputs": [
    {
     "name": "stdout",
     "output_type": "stream",
     "text": [
      "sales data for: Product 3 on Day 4  220\n",
      "sales data for: Product 1  [150 200 250 300 400 350 500]\n",
      "sales data for: Product 3 on Day 4  240\n"
     ]
    }
   ],
   "source": [
    "print(\"sales data for: Product 3 on Day 4 \",sales_data[2,3])\n",
    "print(\"sales data for: Product 1 \",sales_data[0])\n",
    "\n"
   ]
  },
  {
   "cell_type": "code",
   "execution_count": null,
   "id": "909184fa",
   "metadata": {},
   "outputs": [],
   "source": []
  }
 ],
 "metadata": {
  "kernelspec": {
   "display_name": "Python 3 (ipykernel)",
   "language": "python",
   "name": "python3"
  },
  "language_info": {
   "codemirror_mode": {
    "name": "ipython",
    "version": 3
   },
   "file_extension": ".py",
   "mimetype": "text/x-python",
   "name": "python",
   "nbconvert_exporter": "python",
   "pygments_lexer": "ipython3",
   "version": "3.11.5"
  }
 },
 "nbformat": 4,
 "nbformat_minor": 5
}
