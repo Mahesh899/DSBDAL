{
 "cells": [
  {
   "cell_type": "code",
   "execution_count": 1,
   "id": "6f2cf832",
   "metadata": {},
   "outputs": [],
   "source": [
    "import pandas as  pd\n"
   ]
  },
  {
   "cell_type": "code",
   "execution_count": 4,
   "id": "435b3b6e",
   "metadata": {},
   "outputs": [
    {
     "name": "stdout",
     "output_type": "stream",
     "text": [
      "      Unnamed: 0 Result     Margin   BR  Toss  Bat   Opposition      Ground  \\\n",
      "0            418    won    85 runs  NaN  lost  1st      v India     Kolkata   \n",
      "1            692   lost    85 runs  NaN   won  2nd   v Pakistan     Kolkata   \n",
      "2            419   lost    10 runs  NaN  lost  2nd      v India       Delhi   \n",
      "3            693    won    10 runs  NaN   won  1st   v Pakistan       Delhi   \n",
      "4            121   lost   107 runs  NaN  lost  2nd  v Australia   Melbourne   \n",
      "...          ...    ...        ...  ...   ...  ...          ...         ...   \n",
      "1317         997    won  3 wickets  3.0   won  2nd   v Pakistan  Nottingham   \n",
      "1318         282   aban          -  NaN     -    -   v Scotland   Edinburgh   \n",
      "1319        1322      -          -  NaN   won  2nd    v Ireland     Belfast   \n",
      "1320         559      -          -  NaN  lost  2nd    v England       Leeds   \n",
      "1321         998      -          -  NaN   won  1st   v Pakistan       Leeds   \n",
      "\n",
      "       Start Date     Match_ID      Country  Country_ID  \n",
      "0      3 Jan 2013   ODI # 3315     Pakistan           7  \n",
      "1      3 Jan 2013   ODI # 3315        India           6  \n",
      "2      6 Jan 2013   ODI # 3316     Pakistan           7  \n",
      "3      6 Jan 2013   ODI # 3316        India           6  \n",
      "4     11 Jan 2013   ODI # 3317     SriLanka           8  \n",
      "...           ...          ...          ...         ...  \n",
      "1317  17 May 2019   ODI # 4138      England           1  \n",
      "1318  18 May 2019  ODI # 4138a     SriLanka           8  \n",
      "1319  19 May 2019   ODI # 4139  Afghanistan          40  \n",
      "1320  19 May 2019   ODI # 4140     Pakistan           7  \n",
      "1321  19 May 2019   ODI # 4140      England           1  \n",
      "\n",
      "[1322 rows x 12 columns]\n"
     ]
    }
   ],
   "source": [
    "#Question 1\n",
    "data = pd.read_csv(\"C:\\\\Users\\\\mahes\\\\Downloads\\\\ODI_Match_Results.csv\")\n"
   ]
  },
  {
   "cell_type": "code",
   "execution_count": 6,
   "id": "8c18765a",
   "metadata": {},
   "outputs": [
    {
     "name": "stdout",
     "output_type": "stream",
     "text": [
      "first five rows:\n",
      "    Unnamed: 0 Result    Margin  BR  Toss  Bat   Opposition     Ground  \\\n",
      "0         418    won   85 runs NaN  lost  1st      v India    Kolkata   \n",
      "1         692   lost   85 runs NaN   won  2nd   v Pakistan    Kolkata   \n",
      "2         419   lost   10 runs NaN  lost  2nd      v India      Delhi   \n",
      "3         693    won   10 runs NaN   won  1st   v Pakistan      Delhi   \n",
      "4         121   lost  107 runs NaN  lost  2nd  v Australia  Melbourne   \n",
      "\n",
      "    Start Date    Match_ID   Country  Country_ID  \n",
      "0   3 Jan 2013  ODI # 3315  Pakistan           7  \n",
      "1   3 Jan 2013  ODI # 3315     India           6  \n",
      "2   6 Jan 2013  ODI # 3316  Pakistan           7  \n",
      "3   6 Jan 2013  ODI # 3316     India           6  \n",
      "4  11 Jan 2013  ODI # 3317  SriLanka           8  \n"
     ]
    }
   ],
   "source": [
    "#Question 2\n",
    "print(\"First five rows:\\n\",data.head())\n"
   ]
  },
  {
   "cell_type": "code",
   "execution_count": 12,
   "id": "3b20fefc",
   "metadata": {},
   "outputs": [
    {
     "name": "stdout",
     "output_type": "stream",
     "text": [
      "Number of rows and column: (1322, 12)\n"
     ]
    }
   ],
   "source": [
    "#Question 3\n",
    "print(\"Number of rows and column:\",data.shape)\n"
   ]
  },
  {
   "cell_type": "code",
   "execution_count": 15,
   "id": "4b263e2a",
   "metadata": {},
   "outputs": [
    {
     "name": "stdout",
     "output_type": "stream",
     "text": [
      "Number of Missing values in data: Unnamed: 0      0\n",
      "Result          0\n",
      "Margin          0\n",
      "BR            716\n",
      "Toss            0\n",
      "Bat             0\n",
      "Opposition      0\n",
      "Ground          0\n",
      "Start Date      0\n",
      "Match_ID        0\n",
      "Country         0\n",
      "Country_ID      0\n",
      "dtype: int64\n"
     ]
    }
   ],
   "source": [
    "#Question 4\n",
    "print(\"Number of Missing values in data:\\n\",data.isnull().sum())\n"
   ]
  },
  {
   "cell_type": "code",
   "execution_count": null,
   "id": "30ec5974",
   "metadata": {},
   "outputs": [],
   "source": []
  }
 ],
 "metadata": {
  "kernelspec": {
   "display_name": "Python 3 (ipykernel)",
   "language": "python",
   "name": "python3"
  },
  "language_info": {
   "codemirror_mode": {
    "name": "ipython",
    "version": 3
   },
   "file_extension": ".py",
   "mimetype": "text/x-python",
   "name": "python",
   "nbconvert_exporter": "python",
   "pygments_lexer": "ipython3",
   "version": "3.11.5"
  }
 },
 "nbformat": 4,
 "nbformat_minor": 5
}
