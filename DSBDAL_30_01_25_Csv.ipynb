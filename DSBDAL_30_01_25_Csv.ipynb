{
 "cells": [
  {
   "cell_type": "code",
   "execution_count": 1,
   "id": "9ca7ff36",
   "metadata": {},
   "outputs": [],
   "source": [
    "import pandas as  pd\n"
   ]
  },
  {
   "cell_type": "code",
   "execution_count": 2,
   "id": "6110afb8",
   "metadata": {},
   "outputs": [],
   "source": [
    "#Question 1\n",
    "data = pd.read_csv(\"C:\\\\Users\\\\mahes\\\\Downloads\\\\ODI_Match_Results.csv\")\n"
   ]
  },
  {
   "cell_type": "code",
   "execution_count": 3,
   "id": "01026793",
   "metadata": {},
   "outputs": [
    {
     "name": "stdout",
     "output_type": "stream",
     "text": [
      "First five rows:\n",
      "    Unnamed: 0 Result    Margin  BR  Toss  Bat   Opposition     Ground  \\\n",
      "0         418    won   85 runs NaN  lost  1st      v India    Kolkata   \n",
      "1         692   lost   85 runs NaN   won  2nd   v Pakistan    Kolkata   \n",
      "2         419   lost   10 runs NaN  lost  2nd      v India      Delhi   \n",
      "3         693    won   10 runs NaN   won  1st   v Pakistan      Delhi   \n",
      "4         121   lost  107 runs NaN  lost  2nd  v Australia  Melbourne   \n",
      "\n",
      "    Start Date    Match_ID   Country  Country_ID  \n",
      "0   3 Jan 2013  ODI # 3315  Pakistan           7  \n",
      "1   3 Jan 2013  ODI # 3315     India           6  \n",
      "2   6 Jan 2013  ODI # 3316  Pakistan           7  \n",
      "3   6 Jan 2013  ODI # 3316     India           6  \n",
      "4  11 Jan 2013  ODI # 3317  SriLanka           8  \n"
     ]
    }
   ],
   "source": [
    "#Question 2\n",
    "print(\"First five rows:\\n\",data.head())\n"
   ]
  },
  {
   "cell_type": "code",
   "execution_count": 4,
   "id": "0c3cc9a5",
   "metadata": {},
   "outputs": [
    {
     "name": "stdout",
     "output_type": "stream",
     "text": [
      "Number of rows and column: (1322, 12)\n"
     ]
    }
   ],
   "source": [
    "#Question 3\n",
    "print(\"Number of rows and column:\",data.shape)\n"
   ]
  },
  {
   "cell_type": "code",
   "execution_count": 5,
   "id": "5d66b2ff",
   "metadata": {},
   "outputs": [
    {
     "name": "stdout",
     "output_type": "stream",
     "text": [
      "Number of Missing values in data:\n",
      " Unnamed: 0      0\n",
      "Result          0\n",
      "Margin          0\n",
      "BR            716\n",
      "Toss            0\n",
      "Bat             0\n",
      "Opposition      0\n",
      "Ground          0\n",
      "Start Date      0\n",
      "Match_ID        0\n",
      "Country         0\n",
      "Country_ID      0\n",
      "dtype: int64\n"
     ]
    }
   ],
   "source": [
    "#Question 4\n",
    "print(\"Number of Missing values in data:\\n\",data.isnull().sum())\n"
   ]
  },
  {
   "cell_type": "code",
   "execution_count": 6,
   "id": "fe5251e5",
   "metadata": {},
   "outputs": [
    {
     "name": "stdout",
     "output_type": "stream",
     "text": [
      "Statistics of the data:\n",
      "         Unnamed: 0          BR   Country_ID\n",
      "count  1322.000000  606.000000  1322.000000\n",
      "mean    661.500000   51.409241     8.560514\n",
      "std     381.772838   55.924337    10.337003\n",
      "min       1.000000    0.000000     1.000000\n",
      "25%     331.250000   10.000000     3.000000\n",
      "50%     661.500000   30.500000     5.000000\n",
      "75%     991.750000   75.000000     8.000000\n",
      "max    1322.000000  250.000000    40.000000\n"
     ]
    }
   ],
   "source": [
    "\n",
    "#Question 5\n",
    "print(\"Statistics of the data:\\n\",data.describe())"
   ]
  },
  {
   "cell_type": "code",
   "execution_count": 7,
   "id": "5a6f3943",
   "metadata": {},
   "outputs": [
    {
     "name": "stdout",
     "output_type": "stream",
     "text": [
      "variable names and their data types:\n",
      " Unnamed: 0      int64\n",
      "Result         object\n",
      "Margin         object\n",
      "BR            float64\n",
      "Toss           object\n",
      "Bat            object\n",
      "Opposition     object\n",
      "Ground         object\n",
      "Start Date     object\n",
      "Match_ID       object\n",
      "Country        object\n",
      "Country_ID      int64\n",
      "dtype: object\n"
     ]
    }
   ],
   "source": [
    "#Question 6\n",
    "print(\"variable names and their data types:\\n\",data.dtypes)"
   ]
  },
  {
   "cell_type": "code",
   "execution_count": null,
   "id": "b04ca439",
   "metadata": {},
   "outputs": [],
   "source": []
  }
 ],
 "metadata": {
  "kernelspec": {
   "display_name": "Python 3 (ipykernel)",
   "language": "python",
   "name": "python3"
  },
  "language_info": {
   "codemirror_mode": {
    "name": "ipython",
    "version": 3
   },
   "file_extension": ".py",
   "mimetype": "text/x-python",
   "name": "python",
   "nbconvert_exporter": "python",
   "pygments_lexer": "ipython3",
   "version": "3.11.5"
  }
 },
 "nbformat": 4,
 "nbformat_minor": 5
}
