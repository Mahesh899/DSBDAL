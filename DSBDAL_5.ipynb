{
 "cells": [
  {
   "cell_type": "code",
   "execution_count": 2,
   "id": "61ef09ba",
   "metadata": {},
   "outputs": [],
   "source": [
    "import numpy as np\n",
    "import pandas as pd"
   ]
  },
  {
   "cell_type": "code",
   "execution_count": 3,
   "id": "c1d4a9a0",
   "metadata": {},
   "outputs": [
    {
     "data": {
      "text/html": [
       "<div>\n",
       "<style scoped>\n",
       "    .dataframe tbody tr th:only-of-type {\n",
       "        vertical-align: middle;\n",
       "    }\n",
       "\n",
       "    .dataframe tbody tr th {\n",
       "        vertical-align: top;\n",
       "    }\n",
       "\n",
       "    .dataframe thead th {\n",
       "        text-align: right;\n",
       "    }\n",
       "</style>\n",
       "<table border=\"1\" class=\"dataframe\">\n",
       "  <thead>\n",
       "    <tr style=\"text-align: right;\">\n",
       "      <th></th>\n",
       "      <th>User ID</th>\n",
       "      <th>Gender</th>\n",
       "      <th>Age</th>\n",
       "      <th>EstimatedSalary</th>\n",
       "      <th>Purchased</th>\n",
       "    </tr>\n",
       "  </thead>\n",
       "  <tbody>\n",
       "    <tr>\n",
       "      <th>0</th>\n",
       "      <td>15624510</td>\n",
       "      <td>Male</td>\n",
       "      <td>19</td>\n",
       "      <td>19000</td>\n",
       "      <td>0</td>\n",
       "    </tr>\n",
       "    <tr>\n",
       "      <th>1</th>\n",
       "      <td>15810944</td>\n",
       "      <td>Male</td>\n",
       "      <td>35</td>\n",
       "      <td>20000</td>\n",
       "      <td>0</td>\n",
       "    </tr>\n",
       "    <tr>\n",
       "      <th>2</th>\n",
       "      <td>15668575</td>\n",
       "      <td>Female</td>\n",
       "      <td>26</td>\n",
       "      <td>43000</td>\n",
       "      <td>0</td>\n",
       "    </tr>\n",
       "    <tr>\n",
       "      <th>3</th>\n",
       "      <td>15603246</td>\n",
       "      <td>Female</td>\n",
       "      <td>27</td>\n",
       "      <td>57000</td>\n",
       "      <td>0</td>\n",
       "    </tr>\n",
       "    <tr>\n",
       "      <th>4</th>\n",
       "      <td>15804002</td>\n",
       "      <td>Male</td>\n",
       "      <td>19</td>\n",
       "      <td>76000</td>\n",
       "      <td>0</td>\n",
       "    </tr>\n",
       "  </tbody>\n",
       "</table>\n",
       "</div>"
      ],
      "text/plain": [
       "    User ID  Gender  Age  EstimatedSalary  Purchased\n",
       "0  15624510    Male   19            19000          0\n",
       "1  15810944    Male   35            20000          0\n",
       "2  15668575  Female   26            43000          0\n",
       "3  15603246  Female   27            57000          0\n",
       "4  15804002    Male   19            76000          0"
      ]
     },
     "execution_count": 3,
     "metadata": {},
     "output_type": "execute_result"
    }
   ],
   "source": [
    "data=pd.read_csv(\"social_network_ads.csv\")\n",
    "data.head()"
   ]
  },
  {
   "cell_type": "code",
   "execution_count": 7,
   "id": "cbbe21bc",
   "metadata": {},
   "outputs": [
    {
     "name": "stdout",
     "output_type": "stream",
     "text": [
      "            User ID         Age  EstimatedSalary   Purchased\n",
      "count  4.000000e+02  400.000000       400.000000  400.000000\n",
      "mean   1.569154e+07   37.655000     69742.500000    0.357500\n",
      "std    7.165832e+04   10.482877     34096.960282    0.479864\n",
      "min    1.556669e+07   18.000000     15000.000000    0.000000\n",
      "25%    1.562676e+07   29.750000     43000.000000    0.000000\n",
      "50%    1.569434e+07   37.000000     70000.000000    0.000000\n",
      "75%    1.575036e+07   46.000000     88000.000000    1.000000\n",
      "max    1.581524e+07   60.000000    150000.000000    1.000000\n",
      "----------------------------------------------------------------------\n",
      "User ID            0\n",
      "Gender             0\n",
      "Age                0\n",
      "EstimatedSalary    0\n",
      "Purchased          0\n",
      "dtype: int64\n"
     ]
    }
   ],
   "source": [
    "print(data.describe()) \n",
    "print(\"-\"*70)\n",
    "print(data.isnull().sum()) "
   ]
  },
  {
   "cell_type": "code",
   "execution_count": 14,
   "id": "6d32bfdb",
   "metadata": {},
   "outputs": [],
   "source": [
    "x = pd.get_dummies(data.drop(columns=['Purchased']), drop_first=True)\n",
    "y = data['Purchased']\n"
   ]
  },
  {
   "cell_type": "code",
   "execution_count": 15,
   "id": "cc6492f8",
   "metadata": {},
   "outputs": [],
   "source": [
    "from sklearn.model_selection import train_test_split \n",
    "x_train, x_test, y_train, y_test = train_test_split(x, y, test_size=0.25, random_state=42) "
   ]
  },
  {
   "cell_type": "code",
   "execution_count": 16,
   "id": "1c2bc954",
   "metadata": {},
   "outputs": [],
   "source": [
    "from sklearn.linear_model import LogisticRegression \n",
    "lr = LogisticRegression(random_state=0, solver='lbfgs') \n",
    "lr.fit(x_train, y_train) \n",
    "pred = lr.predict(x_test) "
   ]
  },
  {
   "cell_type": "code",
   "execution_count": 23,
   "id": "e7c0eeb8",
   "metadata": {},
   "outputs": [
    {
     "name": "stdout",
     "output_type": "stream",
     "text": [
      "Test Data:\n",
      "       User ID  Age  EstimatedSalary  Gender_Male\n",
      "209  15697424   46            22000        False\n",
      "280  15609669   59            88000        False\n",
      "33   15776733   28            44000        False\n",
      "210  15724536   48            96000        False\n",
      "93   15699284   29            28000        False\n",
      "84   15798659   30            62000        False\n",
      "329  15639576   47           107000        False\n",
      "94   15786993   29            83000        False\n",
      "266  15721592   40            75000         True\n",
      "126  15610801   42            65000         True\n",
      "----------------------------------------\n",
      "Predicted Labels:  [0 0 0 0 0 0 1 0 0 0]\n",
      "----------------------------------------\n",
      "Actual Labels:\n",
      " 209    0\n",
      "280    1\n",
      "33     0\n",
      "210    1\n",
      "93     0\n",
      "84     0\n",
      "329    1\n",
      "94     0\n",
      "266    0\n",
      "126    0\n",
      "Name: Purchased, dtype: int64\n"
     ]
    }
   ],
   "source": [
    "print(\"Test Data:\\n\", x_test[:10]) \n",
    "print(\"-\"*40) \n",
    "print(\"Predicted Labels: \", pred[:10]) \n",
    "print(\"-\"*40) \n",
    "print(\"Actual Labels:\\n\", y_test[:10])"
   ]
  },
  {
   "cell_type": "code",
   "execution_count": 26,
   "id": "9ce69d83",
   "metadata": {},
   "outputs": [
    {
     "name": "stdout",
     "output_type": "stream",
     "text": [
      "Confusion Matrix:\n",
      " [[60  3]\n",
      " [22 15]]\n"
     ]
    }
   ],
   "source": [
    "from sklearn.metrics import confusion_matrix, ConfusionMatrixDisplay, classification_report, accuracy_score, precision_score, recall_score, f1_score \n",
    "cm = confusion_matrix(y_test, pred, labels=lr.classes_) \n",
    "print(\"Confusion Matrix:\\n\",cm)"
   ]
  },
  {
   "cell_type": "code",
   "execution_count": 29,
   "id": "b098ac82",
   "metadata": {},
   "outputs": [
    {
     "data": {
      "image/png": "[encoded data removed]",
      "text/plain": [
       "<Figure size 640x480 with 2 Axes>"
      ]
     },
     "metadata": {},
     "output_type": "display_data"
    }
   ],
   "source": [
    "import matplotlib.pyplot as plt \n",
    "import seaborn as sns \n",
    "display_matrix = ConfusionMatrixDisplay(confusion_matrix=cm, display_labels=lr.classes_) \n",
    "display_matrix.plot(cmap=plt.cm.Blues) \n",
    "plt.show() "
   ]
  },
  {
   "cell_type": "code",
   "execution_count": 34,
   "id": "75daf281",
   "metadata": {},
   "outputs": [
    {
     "name": "stdout",
     "output_type": "stream",
     "text": [
      "Accuracy:  0.75 \n",
      "Accuracy(%):  75.0\n",
      "Error Rate:  0.25 \n",
      "Error Rate(%):  25.0\n",
      "Recall:  0.40540540540540543 \n",
      "Recall(%):  40.54054054054054\n",
      "Precision:  0.8333333333333334 \n",
      "Precision(%):  83.33333333333334\n"
     ]
    }
   ],
   "source": [
    "accuracy = accuracy_score(y_test,pred)\n",
    "error_rate = 1 - accuracy\n",
    "recall = recall_score(y_test, pred)\n",
    "precision = precision_score(y_test, pred)\n",
    "print(\"Accuracy: \",accuracy,\"\\nAccuracy(%): \",accuracy*100)\n",
    "print(\"Error Rate: \",error_rate,\"\\nError Rate(%): \",error_rate*100)\n",
    "print(\"Recall: \",recall,\"\\nRecall(%): \",recall*100)\n",
    "print(\"Precision: \",precision,\"\\nPrecision(%): \",precision*100)"
   ]
  },
  {
   "cell_type": "code",
   "execution_count": 40,
   "id": "bf41e673",
   "metadata": {},
   "outputs": [
    {
     "data": {
      "image/png": "[encoded data removed]",
      "text/plain": [
       "<Figure size 800x500 with 1 Axes>"
      ]
     },
     "metadata": {},
     "output_type": "display_data"
    }
   ],
   "source": [
    "plt.figure(figsize=(8, 5)) \n",
    "sns.countplot(x='Gender', hue='Purchased', data=data, palette='viridis') \n",
    "plt.xlabel('Gender') \n",
    "plt.ylabel('Count') \n",
    "plt.title('Number of Males and Females Who Purchased') \n",
    "plt.legend(title='Purchased', labels=['Not Purchased', 'Purchased']) \n",
    "plt.show()"
   ]
  },
  {
   "cell_type": "code",
   "execution_count": null,
   "id": "34e340fe",
   "metadata": {},
   "outputs": [],
   "source": []
  }
 ],
 "metadata": {
  "kernelspec": {
   "display_name": "Python 3 (ipykernel)",
   "language": "python",
   "name": "python3"
  },
  "language_info": {
   "codemirror_mode": {
    "name": "ipython",
    "version": 3
   },
   "file_extension": ".py",
   "mimetype": "text/x-python",
   "name": "python",
   "nbconvert_exporter": "python",
   "pygments_lexer": "ipython3",
   "version": "3.11.5"
  }
 },
 "nbformat": 4,
 "nbformat_minor": 5
}
