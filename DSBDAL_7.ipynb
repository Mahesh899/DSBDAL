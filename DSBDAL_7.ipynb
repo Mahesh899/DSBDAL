{
 "cells": [
  {
   "cell_type": "code",
   "execution_count": 1,
   "id": "e5f41b3b",
   "metadata": {},
   "outputs": [
    {
     "name": "stdout",
     "output_type": "stream",
     "text": [
      "Requirement already satisfied: nltk in c:\\users\\mahes\\anaconda3\\lib\\site-packages (3.8.1)\n",
      "Requirement already satisfied: click in c:\\users\\mahes\\anaconda3\\lib\\site-packages (from nltk) (8.0.4)\n",
      "Requirement already satisfied: joblib in c:\\users\\mahes\\anaconda3\\lib\\site-packages (from nltk) (1.2.0)\n",
      "Requirement already satisfied: regex>=2021.8.3 in c:\\users\\mahes\\anaconda3\\lib\\site-packages (from nltk) (2022.7.9)\n",
      "Requirement already satisfied: tqdm in c:\\users\\mahes\\anaconda3\\lib\\site-packages (from nltk) (4.67.1)\n",
      "Requirement already satisfied: colorama in c:\\users\\mahes\\anaconda3\\lib\\site-packages (from click->nltk) (0.4.6)\n",
      "Note: you may need to restart the kernel to use updated packages.\n"
     ]
    }
   ],
   "source": [
    "pip install nltk"
   ]
  },
  {
   "cell_type": "code",
   "execution_count": 21,
   "id": "e8c0ed34",
   "metadata": {},
   "outputs": [],
   "source": [
    "import nltk"
   ]
  },
  {
   "cell_type": "code",
   "execution_count": 22,
   "id": "23e3b036",
   "metadata": {},
   "outputs": [
    {
     "name": "stderr",
     "output_type": "stream",
     "text": [
      "[nltk_data] Downloading package punkt to\n",
      "[nltk_data]     C:\\Users\\mahes\\AppData\\Roaming\\nltk_data...\n",
      "[nltk_data]   Package punkt is already up-to-date!\n",
      "[nltk_data] Downloading package stopwords to\n",
      "[nltk_data]     C:\\Users\\mahes\\AppData\\Roaming\\nltk_data...\n",
      "[nltk_data]   Package stopwords is already up-to-date!\n",
      "[nltk_data] Downloading package wordnet to\n",
      "[nltk_data]     C:\\Users\\mahes\\AppData\\Roaming\\nltk_data...\n",
      "[nltk_data]   Package wordnet is already up-to-date!\n",
      "[nltk_data] Downloading package averaged_perceptron_tagger to\n",
      "[nltk_data]     C:\\Users\\mahes\\AppData\\Roaming\\nltk_data...\n",
      "[nltk_data]   Package averaged_perceptron_tagger is already up-to-\n",
      "[nltk_data]       date!\n"
     ]
    },
    {
     "data": {
      "text/plain": [
       "True"
      ]
     },
     "execution_count": 22,
     "metadata": {},
     "output_type": "execute_result"
    }
   ],
   "source": [
    "nltk.download('punkt')\n",
    "nltk.download('stopwords')\n",
    "nltk.download('wordnet')\n",
    "nltk.download('averaged_perceptron_tagger')\n"
   ]
  },
  {
   "cell_type": "code",
   "execution_count": 23,
   "id": "99b59eb6",
   "metadata": {},
   "outputs": [],
   "source": [
    "text = \"Text mining is also referred to as text analytics. Text mining is a process of exploring sizable textual data and finding patterns. Text Mining processes the text itself, while NLP processes with the underlying metadata.\""
   ]
  },
  {
   "cell_type": "code",
   "execution_count": 24,
   "id": "8bee6c7f",
   "metadata": {},
   "outputs": [
    {
     "name": "stdout",
     "output_type": "stream",
     "text": [
      "Sentence Tokenization\n",
      " --------------------\n",
      "['Text mining is also referred to as text analytics.', 'Text mining is a process of exploring sizable textual data and finding patterns.', 'Text Mining processes the text itself, while NLP processes with the underlying metadata.']\n"
     ]
    }
   ],
   "source": [
    "#Sentence Tokenization\n",
    "print(\"Sentence Tokenization\\n\",\"-\"*20)\n",
    "from nltk.tokenize import sent_tokenize\n",
    "tokenized_text= sent_tokenize(text)\n",
    "print(tokenized_text)"
   ]
  },
  {
   "cell_type": "code",
   "execution_count": 25,
   "id": "b9f11efa",
   "metadata": {},
   "outputs": [
    {
     "name": "stdout",
     "output_type": "stream",
     "text": [
      "Word Tokenization\n",
      " --------------------\n",
      "['Text', 'mining', 'is', 'also', 'referred', 'to', 'as', 'text', 'analytics', '.', 'Text', 'mining', 'is', 'a', 'process', 'of', 'exploring', 'sizable', 'textual', 'data', 'and', 'finding', 'patterns', '.', 'Text', 'Mining', 'processes', 'the', 'text', 'itself', ',', 'while', 'NLP', 'processes', 'with', 'the', 'underlying', 'metadata', '.']\n"
     ]
    }
   ],
   "source": [
    "#Word Tokenization\n",
    "print(\"Word Tokenization\\n\",\"-\"*20)\n",
    "from nltk.tokenize import word_tokenize\n",
    "tokenized_word=word_tokenize(text)\n",
    "print(tokenized_word)"
   ]
  },
  {
   "cell_type": "code",
   "execution_count": 26,
   "id": "e938d58b",
   "metadata": {},
   "outputs": [
    {
     "name": "stdout",
     "output_type": "stream",
     "text": [
      "Stop Words in English\n",
      " --------------------\n",
      "{'ll', 'why', 'does', \"shan't\", \"they're\", 'its', 'in', 'all', 'been', 'once', 'so', \"you've\", \"isn't\", 's', 'weren', 'before', 'out', 'up', \"mightn't\", 'no', 'some', 'itself', \"don't\", 'mustn', 'by', \"should've\", 'a', 'ours', 'their', 'while', 'there', 'theirs', 'because', 'ma', 're', 'again', 'o', 'ourselves', 'mightn', 'off', 't', 'with', 'above', \"couldn't\", \"hasn't\", 'don', 'into', \"aren't\", 'doesn', 'as', 'these', 'yours', 'having', 'be', 'it', 'then', \"he'll\", 'hers', 'nor', 'only', \"she'll\", 'your', \"we've\", 'had', 'd', \"it's\", 'she', \"we'd\", \"won't\", \"mustn't\", 'from', \"he'd\", 'wouldn', 'was', 'under', 'between', 'when', 'further', 'they', \"i'm\", 'herself', \"wouldn't\", \"i'd\", \"you're\", 'wasn', 'he', 'this', 'on', 'down', 'couldn', 'hadn', 'both', 'about', 'at', 'how', 'can', 'which', 'against', 'below', 'than', 'the', 'am', 'doing', \"she'd\", 'shouldn', 'but', 'our', 'over', 'them', 'do', 'didn', 'each', \"it'll\", 'more', \"we'll\", 'if', 'just', 'we', 'that', 'for', \"it'd\", \"that'll\", 'are', 'yourself', 'and', 'being', \"they've\", 'have', 'not', 'an', 'won', 'after', 'me', 'were', \"hadn't\", 'my', 'you', \"i've\", 'to', 'will', \"we're\", 'through', \"they'll\", 'where', 'whom', 'such', \"you'll\", 'here', 'those', \"weren't\", \"shouldn't\", \"wasn't\", \"doesn't\", 'himself', \"she's\", 'same', 'y', 'him', 'own', \"i'll\", 'of', 'ain', 'yourselves', \"haven't\", 'needn', 'aren', 'other', 'her', 'haven', 'i', 'until', 'did', 'what', 'now', 'any', \"you'd\", 'm', 'too', 'during', 'or', 'has', 'very', 'his', 'hasn', 'few', 'is', 've', 'shan', 'themselves', \"he's\", 'most', \"didn't\", 'who', 'myself', 'isn', \"needn't\", \"they'd\", 'should'}\n"
     ]
    }
   ],
   "source": [
    "#Stop Words in English\n",
    "print(\"Stop Words in English\\n\",\"-\"*20)\n",
    "from nltk.corpus import stopwords\n",
    "stop_words=set(stopwords.words(\"english\"))\n",
    "print(stop_words)"
   ]
  },
  {
   "cell_type": "code",
   "execution_count": 30,
   "id": "2d5783f1",
   "metadata": {},
   "outputs": [
    {
     "name": "stdout",
     "output_type": "stream",
     "text": [
      "Tokenized Sentence: ['text', 'mining', 'is', 'also', 'referred', 'to', 'as', 'text', 'analytics', 'text', 'mining', 'is', 'a', 'process', 'of', 'exploring', 'sizable', 'textual', 'data', 'and', 'finding', 'patterns', 'text', 'mining', 'processes', 'the', 'text', 'itself', 'while', 'nlp', 'processes', 'with', 'the', 'underlying', 'metadata']\n",
      "----------------------------------------------------------------------------------------------------\n",
      "Filterd Sentence: ['text', 'mining', 'also', 'referred', 'text', 'analytics', 'text', 'mining', 'process', 'exploring', 'sizable', 'textual', 'data', 'finding', 'patterns', 'text', 'mining', 'processes', 'text', 'nlp', 'processes', 'underlying', 'metadata']\n"
     ]
    }
   ],
   "source": [
    "import re\n",
    "\n",
    "# text= \"How to remove stop words with NLTK library in Python?\"\n",
    "text= re.sub('[^a-zA-Z]', ' ',text)\n",
    "tokens = word_tokenize(text.lower())\n",
    "filtered_text=[]\n",
    "for w in tokens:\n",
    "    if w not in stop_words:\n",
    "        filtered_text.append(w)\n",
    "print(\"Tokenized Sentence:\",tokens)\n",
    "print(\"-\"*100)\n",
    "print(\"Filterd Sentence:\",filtered_text)"
   ]
  },
  {
   "cell_type": "code",
   "execution_count": null,
   "id": "47e2eadd",
   "metadata": {},
   "outputs": [],
   "source": []
  }
 ],
 "metadata": {
  "kernelspec": {
   "display_name": "Python 3 (ipykernel)",
   "language": "python",
   "name": "python3"
  },
  "language_info": {
   "codemirror_mode": {
    "name": "ipython",
    "version": 3
   },
   "file_extension": ".py",
   "mimetype": "text/x-python",
   "name": "python",
   "nbconvert_exporter": "python",
   "pygments_lexer": "ipython3",
   "version": "3.11.5"
  }
 },
 "nbformat": 4,
 "nbformat_minor": 5
}
