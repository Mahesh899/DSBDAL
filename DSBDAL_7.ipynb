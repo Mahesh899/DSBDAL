{
 "cells": [
  {
   "cell_type": "code",
   "execution_count": 19,
   "id": "e5f41b3b",
   "metadata": {},
   "outputs": [
    {
     "name": "stdout",
     "output_type": "stream",
     "text": [
      "Requirement already satisfied: nltk in c:\\users\\mahes\\anaconda3\\lib\\site-packages (3.8.1)\n",
      "Requirement already satisfied: click in c:\\users\\mahes\\anaconda3\\lib\\site-packages (from nltk) (8.0.4)\n",
      "Requirement already satisfied: joblib in c:\\users\\mahes\\anaconda3\\lib\\site-packages (from nltk) (1.2.0)\n",
      "Requirement already satisfied: regex>=2021.8.3 in c:\\users\\mahes\\anaconda3\\lib\\site-packages (from nltk) (2022.7.9)\n",
      "Requirement already satisfied: tqdm in c:\\users\\mahes\\anaconda3\\lib\\site-packages (from nltk) (4.67.1)\n",
      "Requirement already satisfied: colorama in c:\\users\\mahes\\anaconda3\\lib\\site-packages (from click->nltk) (0.4.6)\n",
      "Note: you may need to restart the kernel to use updated packages.\n"
     ]
    }
   ],
   "source": [
    "pip install nltk"
   ]
  },
  {
   "cell_type": "code",
   "execution_count": 20,
   "id": "e8c0ed34",
   "metadata": {},
   "outputs": [],
   "source": [
    "import nltk\n",
    "\n",
    "import pandas as pd"
   ]
  },
  {
   "cell_type": "code",
   "execution_count": 21,
   "id": "23e3b036",
   "metadata": {},
   "outputs": [
    {
     "name": "stderr",
     "output_type": "stream",
     "text": [
      "[nltk_data] Downloading package punkt to\n",
      "[nltk_data]     C:\\Users\\mahes\\AppData\\Roaming\\nltk_data...\n",
      "[nltk_data]   Package punkt is already up-to-date!\n",
      "[nltk_data] Downloading package stopwords to\n",
      "[nltk_data]     C:\\Users\\mahes\\AppData\\Roaming\\nltk_data...\n",
      "[nltk_data]   Package stopwords is already up-to-date!\n",
      "[nltk_data] Downloading package wordnet to\n",
      "[nltk_data]     C:\\Users\\mahes\\AppData\\Roaming\\nltk_data...\n",
      "[nltk_data]   Package wordnet is already up-to-date!\n",
      "[nltk_data] Downloading package averaged_perceptron_tagger to\n",
      "[nltk_data]     C:\\Users\\mahes\\AppData\\Roaming\\nltk_data...\n",
      "[nltk_data]   Package averaged_perceptron_tagger is already up-to-\n",
      "[nltk_data]       date!\n"
     ]
    },
    {
     "data": {
      "text/plain": [
       "True"
      ]
     },
     "execution_count": 21,
     "metadata": {},
     "output_type": "execute_result"
    }
   ],
   "source": [
    "nltk.download('punkt')\n",
    "nltk.download('stopwords')\n",
    "nltk.download('wordnet')\n",
    "nltk.download('averaged_perceptron_tagger')\n"
   ]
  },
  {
   "cell_type": "code",
   "execution_count": 22,
   "id": "99b59eb6",
   "metadata": {},
   "outputs": [],
   "source": [
    "text = \"Text mining is also referred to as text analytics. Text mining is a process of exploring sizable textual data and finding patterns. Text Mining processes the text itself, while NLP processes with the underlying metadata.\""
   ]
  },
  {
   "cell_type": "code",
   "execution_count": 23,
   "id": "8bee6c7f",
   "metadata": {},
   "outputs": [
    {
     "name": "stdout",
     "output_type": "stream",
     "text": [
      "Sentence Tokenization\n",
      " --------------------\n",
      "['Text mining is also referred to as text analytics.', 'Text mining is a process of exploring sizable textual data and finding patterns.', 'Text Mining processes the text itself, while NLP processes with the underlying metadata.']\n"
     ]
    }
   ],
   "source": [
    "#Sentence Tokenization\n",
    "print(\"Sentence Tokenization\\n\",\"-\"*20)\n",
    "from nltk.tokenize import sent_tokenize\n",
    "tokenized_text= sent_tokenize(text)\n",
    "print(tokenized_text)"
   ]
  },
  {
   "cell_type": "code",
   "execution_count": 24,
   "id": "b9f11efa",
   "metadata": {},
   "outputs": [
    {
     "name": "stdout",
     "output_type": "stream",
     "text": [
      "Word Tokenization\n",
      " --------------------\n",
      "['Text', 'mining', 'is', 'also', 'referred', 'to', 'as', 'text', 'analytics', '.', 'Text', 'mining', 'is', 'a', 'process', 'of', 'exploring', 'sizable', 'textual', 'data', 'and', 'finding', 'patterns', '.', 'Text', 'Mining', 'processes', 'the', 'text', 'itself', ',', 'while', 'NLP', 'processes', 'with', 'the', 'underlying', 'metadata', '.']\n"
     ]
    }
   ],
   "source": [
    "#Word Tokenization\n",
    "print(\"Word Tokenization\\n\",\"-\"*20)\n",
    "from nltk.tokenize import word_tokenize\n",
    "tokenized_word=word_tokenize(text)\n",
    "print(tokenized_word)"
   ]
  },
  {
   "cell_type": "code",
   "execution_count": 25,
   "id": "e938d58b",
   "metadata": {},
   "outputs": [
    {
     "name": "stdout",
     "output_type": "stream",
     "text": [
      "Stop Words in English\n",
      " --------------------\n",
      "{\"it'd\", 'of', 'that', 'are', 'mustn', 'will', 'so', \"should've\", 'by', 'has', 'my', 's', \"shouldn't\", 'yourselves', \"we're\", 'during', 'because', 'himself', 'is', 'off', 'hasn', 'nor', \"that'll\", 'mightn', \"weren't\", \"hadn't\", 'there', \"isn't\", 'and', 'not', 'the', \"won't\", 'for', 'does', 'these', 'having', 'were', 'at', 're', 'ours', 'when', 'why', 'your', 'am', 'me', 'been', \"didn't\", 'over', 'but', 'very', 'against', 'be', \"doesn't\", 'most', \"she's\", 'theirs', 'here', \"he's\", 'those', 'won', 'yourself', \"wasn't\", 'in', 'hadn', 'again', 'our', 'only', 'do', 'haven', 'below', 'once', \"he'll\", \"aren't\", 'just', 'y', 'a', 'own', 'it', 'before', 'after', 'wasn', 'while', \"you're\", \"i've\", \"we'd\", 't', 'who', 'him', \"she'll\", 'shan', \"haven't\", 'she', 'shouldn', 'yours', 'no', 'out', 've', \"it's\", 'should', \"needn't\", 'his', 'its', 'll', 'themselves', 'up', 'each', 'he', \"it'll\", 'was', 'further', 'doing', 'some', 'such', 'i', 'their', \"they've\", 'other', \"she'd\", \"they'd\", 'on', 'you', 'above', 'from', 'about', 'had', \"mightn't\", 'doesn', \"you'll\", 'ain', 'same', 'this', 'weren', 'now', \"don't\", 'can', 'down', \"couldn't\", 'ma', 'couldn', 'm', 'or', 'to', 'they', 'too', 'don', 'have', 'then', 'how', \"we've\", \"i'll\", \"you've\", 'myself', 'aren', \"wouldn't\", 'if', 'hers', \"hasn't\", 'isn', 'what', \"we'll\", \"i'd\", \"mustn't\", 'which', 'than', 'them', 'all', 'more', 'with', \"you'd\", 'few', 'didn', 'as', \"he'd\", 'ourselves', 'we', 'an', 'both', 'herself', 'itself', 'until', 'wouldn', \"they'll\", 'through', 'under', \"they're\", 'whom', 'any', 'o', 'd', 'into', \"shan't\", 'needn', \"i'm\", 'being', 'her', 'did', 'where', 'between'}\n"
     ]
    }
   ],
   "source": [
    "#Stop Words in English\n",
    "print(\"Stop Words in English\\n\",\"-\"*20)\n",
    "from nltk.corpus import stopwords\n",
    "stop_words=set(stopwords.words(\"english\"))\n",
    "print(stop_words)"
   ]
  },
  {
   "cell_type": "code",
   "execution_count": 26,
   "id": "2d5783f1",
   "metadata": {},
   "outputs": [
    {
     "name": "stdout",
     "output_type": "stream",
     "text": [
      "Tokenized Sentence: ['text', 'mining', 'is', 'also', 'referred', 'to', 'as', 'text', 'analytics', 'text', 'mining', 'is', 'a', 'process', 'of', 'exploring', 'sizable', 'textual', 'data', 'and', 'finding', 'patterns', 'text', 'mining', 'processes', 'the', 'text', 'itself', 'while', 'nlp', 'processes', 'with', 'the', 'underlying', 'metadata']\n",
      "----------------------------------------------------------------------------------------------------\n",
      "Filterd Sentence: ['text', 'mining', 'also', 'referred', 'text', 'analytics', 'text', 'mining', 'process', 'exploring', 'sizable', 'textual', 'data', 'finding', 'patterns', 'text', 'mining', 'processes', 'text', 'nlp', 'processes', 'underlying', 'metadata']\n"
     ]
    }
   ],
   "source": [
    "import re\n",
    "\n",
    "# text= \"How to remove stop words with NLTK library in Python?\"\n",
    "text= re.sub('[^a-zA-Z]', ' ',text)\n",
    "tokens = word_tokenize(text.lower())\n",
    "filtered_text=[]\n",
    "for w in tokens:\n",
    "    if w not in stop_words:\n",
    "        filtered_text.append(w)\n",
    "print(\"Tokenized Sentence:\",tokens)\n",
    "print(\"-\"*100)\n",
    "print(\"Filterd Sentence:\",filtered_text)"
   ]
  },
  {
   "cell_type": "code",
   "execution_count": 27,
   "id": "47e2eadd",
   "metadata": {},
   "outputs": [
    {
     "name": "stdout",
     "output_type": "stream",
     "text": [
      "wait\n"
     ]
    }
   ],
   "source": [
    "#Perform Stemming\n",
    "from nltk.stem import PorterStemmer\n",
    "e_words= [\"wait\", \"waiting\", \"waited\",\"waits\"]\n",
    "ps =PorterStemmer()\n",
    "for w in e_words:\n",
    "    rootWord=ps.stem(w)\n",
    "print(rootWord)"
   ]
  },
  {
   "cell_type": "code",
   "execution_count": 28,
   "id": "96a5ec68",
   "metadata": {},
   "outputs": [
    {
     "name": "stdout",
     "output_type": "stream",
     "text": [
      "Lemma for studies is study\n",
      "Lemma for studying is studying\n",
      "Lemma for cries is cry\n",
      "Lemma for cry is cry\n"
     ]
    }
   ],
   "source": [
    "import nltk\n",
    "from nltk.stem import WordNetLemmatizer\n",
    "#Lemmatization\n",
    "\n",
    "wordnet_lemmatizer = WordNetLemmatizer()\n",
    "\n",
    "text = \"studies studying cries cry\"\n",
    "\n",
    "tokenization = nltk.word_tokenize(text)\n",
    "\n",
    "for w in tokenization:\n",
    "    print(\"Lemma for {} is {}\".format(w, wordnet_lemmatizer.lemmatize(w)))\n"
   ]
  },
  {
   "cell_type": "code",
   "execution_count": null,
   "id": "5fa70fd6",
   "metadata": {},
   "outputs": [],
   "source": []
  },
  {
   "cell_type": "code",
   "execution_count": 29,
   "id": "16664ade",
   "metadata": {},
   "outputs": [
    {
     "name": "stdout",
     "output_type": "stream",
     "text": [
      "POS Tagging:\n",
      " [('text', 'NN'), ('mining', 'NN'), ('also', 'RB'), ('referred', 'VBD'), ('text', 'JJ'), ('analytics', 'NNS'), ('text', 'IN'), ('mining', 'NN'), ('process', 'NN'), ('exploring', 'VBG'), ('sizable', 'JJ'), ('textual', 'JJ'), ('data', 'NNS'), ('finding', 'VBG'), ('patterns', 'NNS'), ('text', 'IN'), ('mining', 'NN'), ('processes', 'NNS'), ('text', 'JJ'), ('nlp', 'JJ'), ('processes', 'NNS'), ('underlying', 'VBG'), ('metadata', 'NN')]\n"
     ]
    }
   ],
   "source": [
    "pos_tags = nltk.pos_tag(filtered_text)\n",
    "print(\"POS Tagging:\\n\", pos_tags)"
   ]
  },
  {
   "cell_type": "code",
   "execution_count": 30,
   "id": "23a420c4",
   "metadata": {},
   "outputs": [],
   "source": [
    "documentA = \"Jupiter is the largest Planet\"\n",
    "documentB = \"Mars is the fourth planet from the Sun\"\n",
    "bagOfWordsA = documentA.split()\n",
    "bagOfWordsB = documentB.split()\n",
    "uniqueWords = set(bagOfWordsA).union(set(bagOfWordsB))\n",
    "numOfWordsA = dict.fromkeys(uniqueWords, 0)\n",
    "numOfWordsB = dict.fromkeys(uniqueWords, 0)\n",
    "for word in bagOfWordsA:\n",
    "    numOfWordsA[word] += 1\n",
    "for word in bagOfWordsB:\n",
    "    numOfWordsB[word] += 1\n"
   ]
  },
  {
   "cell_type": "code",
   "execution_count": 31,
   "id": "b86be2a6",
   "metadata": {},
   "outputs": [],
   "source": [
    "def computeTF(wordDict, bagOfWords):\n",
    "    tfDict = {}\n",
    "    bagOfWordsCount = len(bagOfWords)\n",
    "    for word, count in wordDict.items():\n",
    "        tfDict[word] = count / float(bagOfWordsCount)\n",
    "    return tfDict\n",
    "tfA = computeTF(numOfWordsA, bagOfWordsA)\n",
    "tfB = computeTF(numOfWordsB, bagOfWordsB)"
   ]
  },
  {
   "cell_type": "code",
   "execution_count": 32,
   "id": "c533ca74",
   "metadata": {},
   "outputs": [],
   "source": [
    "import math\n",
    "def computeIDF(documents):\n",
    "    N = len(documents)\n",
    "    idfDict = dict.fromkeys(documents[0].keys(), 0)\n",
    "    for document in documents:\n",
    "        for word, val in document.items():\n",
    "            if val > 0:\n",
    "                idfDict[word] += 1\n",
    "    for word, val in idfDict.items():\n",
    "        idfDict[word] = math.log(N / float(val))\n",
    "    return idfDict\n",
    "idfs = computeIDF([numOfWordsA, numOfWordsB])"
   ]
  },
  {
   "cell_type": "code",
   "execution_count": 33,
   "id": "ae082c64",
   "metadata": {},
   "outputs": [],
   "source": [
    "def computeTFIDF(tfBagOfWords, idfs):\n",
    "    tfidf = {}\n",
    "    for word, val in tfBagOfWords.items():\n",
    "        tfidf[word] = val * idfs[word]\n",
    "    return tfidf"
   ]
  },
  {
   "cell_type": "code",
   "execution_count": 37,
   "id": "07eaf8fd",
   "metadata": {},
   "outputs": [
    {
     "data": {
      "text/html": [
       "<div>\n",
       "<style scoped>\n",
       "    .dataframe tbody tr th:only-of-type {\n",
       "        vertical-align: middle;\n",
       "    }\n",
       "\n",
       "    .dataframe tbody tr th {\n",
       "        vertical-align: top;\n",
       "    }\n",
       "\n",
       "    .dataframe thead th {\n",
       "        text-align: right;\n",
       "    }\n",
       "</style>\n",
       "<table border=\"1\" class=\"dataframe\">\n",
       "  <thead>\n",
       "    <tr style=\"text-align: right;\">\n",
       "      <th></th>\n",
       "      <th>Sun</th>\n",
       "      <th>Mars</th>\n",
       "      <th>Jupiter</th>\n",
       "      <th>the</th>\n",
       "      <th>is</th>\n",
       "      <th>from</th>\n",
       "      <th>Planet</th>\n",
       "      <th>fourth</th>\n",
       "      <th>planet</th>\n",
       "      <th>largest</th>\n",
       "    </tr>\n",
       "  </thead>\n",
       "  <tbody>\n",
       "    <tr>\n",
       "      <th>0</th>\n",
       "      <td>0.000000</td>\n",
       "      <td>0.000000</td>\n",
       "      <td>0.138629</td>\n",
       "      <td>0.0</td>\n",
       "      <td>0.0</td>\n",
       "      <td>0.000000</td>\n",
       "      <td>0.138629</td>\n",
       "      <td>0.000000</td>\n",
       "      <td>0.000000</td>\n",
       "      <td>0.138629</td>\n",
       "    </tr>\n",
       "    <tr>\n",
       "      <th>1</th>\n",
       "      <td>0.086643</td>\n",
       "      <td>0.086643</td>\n",
       "      <td>0.000000</td>\n",
       "      <td>0.0</td>\n",
       "      <td>0.0</td>\n",
       "      <td>0.086643</td>\n",
       "      <td>0.000000</td>\n",
       "      <td>0.086643</td>\n",
       "      <td>0.086643</td>\n",
       "      <td>0.000000</td>\n",
       "    </tr>\n",
       "  </tbody>\n",
       "</table>\n",
       "</div>"
      ],
      "text/plain": [
       "        Sun      Mars   Jupiter  the   is      from    Planet    fourth  \\\n",
       "0  0.000000  0.000000  0.138629  0.0  0.0  0.000000  0.138629  0.000000   \n",
       "1  0.086643  0.086643  0.000000  0.0  0.0  0.086643  0.000000  0.086643   \n",
       "\n",
       "     planet   largest  \n",
       "0  0.000000  0.138629  \n",
       "1  0.086643  0.000000  "
      ]
     },
     "execution_count": 37,
     "metadata": {},
     "output_type": "execute_result"
    }
   ],
   "source": [
    "tfidfA = computeTFIDF(tfA, idfs)\n",
    "tfidfB = computeTFIDF(tfB, idfs)\n",
    "df = pd.DataFrame([tfidfA, tfidfB])\n",
    "df\n"
   ]
  },
  {
   "cell_type": "code",
   "execution_count": null,
   "id": "3bc20fa8",
   "metadata": {},
   "outputs": [],
   "source": []
  }
 ],
 "metadata": {
  "kernelspec": {
   "display_name": "Python 3 (ipykernel)",
   "language": "python",
   "name": "python3"
  },
  "language_info": {
   "codemirror_mode": {
    "name": "ipython",
    "version": 3
   },
   "file_extension": ".py",
   "mimetype": "text/x-python",
   "name": "python",
   "nbconvert_exporter": "python",
   "pygments_lexer": "ipython3",
   "version": "3.11.5"
  }
 },
 "nbformat": 4,
 "nbformat_minor": 5
}
