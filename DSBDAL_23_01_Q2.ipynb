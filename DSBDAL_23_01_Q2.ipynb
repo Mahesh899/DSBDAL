{
 "cells": [
  {
   "cell_type": "code",
   "execution_count": 2,
   "id": "bff90dca",
   "metadata": {},
   "outputs": [],
   "source": [
    "import numpy as np \n",
    "   # Sales data: rows = products, columns = days \n",
    "sales_data = np.array([    [150, 200, 250, 300, 400, 350, 500],    [120, 180, 210, 240, 310, 280, 400],    [100, 130, 190, 220, 300, 270, 350],   [80,  90,  150, 180, 240, 220, 300],     [50,  60,  80,  100, 130, 120, 180]   ])"
   ]
  },
  {
   "cell_type": "code",
   "execution_count": 5,
   "id": "25aca3b7",
   "metadata": {},
   "outputs": [
    {
     "name": "stdout",
     "output_type": "stream",
     "text": [
      "Shape of data is  (5, 7)\n"
     ]
    }
   ],
   "source": [
    "print(\"Shape of data is \",sales_data.shape)"
   ]
  },
  {
   "cell_type": "code",
   "execution_count": 7,
   "id": "5c5e7feb",
   "metadata": {},
   "outputs": [
    {
     "name": "stdout",
     "output_type": "stream",
     "text": [
      "Dimension of data is  2\n"
     ]
    }
   ],
   "source": [
    "print(\"Dimension of data is \",sales_data.ndim)"
   ]
  },
  {
   "cell_type": "code",
   "execution_count": 11,
   "id": "27e5f03a",
   "metadata": {},
   "outputs": [
    {
     "name": "stdout",
     "output_type": "stream",
     "text": [
      "Data type of data is  int32\n"
     ]
    }
   ],
   "source": [
    "print(\"Data type of data is \",sales_data.dtype)"
   ]
  },
  {
   "cell_type": "code",
   "execution_count": 12,
   "id": "c9432a43",
   "metadata": {},
   "outputs": [
    {
     "name": "stdout",
     "output_type": "stream",
     "text": [
      "Data type of data is  35\n"
     ]
    }
   ],
   "source": [
    "print(\"Data type of data is \",sales_data.size)"
   ]
  },
  {
   "cell_type": "code",
   "execution_count": 14,
   "id": "9b316a4d",
   "metadata": {},
   "outputs": [
    {
     "name": "stdout",
     "output_type": "stream",
     "text": [
      "Data type of data is  140\n"
     ]
    }
   ],
   "source": [
    "print(\"Data type of data is \",sales_data.size*sales_data.itemsize)"
   ]
  },
  {
   "cell_type": "code",
   "execution_count": 28,
   "id": "a6196c20",
   "metadata": {},
   "outputs": [
    {
     "name": "stdout",
     "output_type": "stream",
     "text": [
      "sales data for: Product 3 on Day 4  220\n",
      "sales data for: Product 1  [150 200 250 300 400 350 500]\n",
      "Sales data for last 2 days is  [[350 500]\n",
      " [280 400]\n",
      " [270 350]\n",
      " [220 300]\n",
      " [120 180]]\n",
      "Sales data for last 2 days is  [[150 200 250 300 400 350 500]\n",
      " [120 180 210 240 310 280 400]\n",
      " [100 130 190 220 300 270 350]]\n",
      "Transpose of array:  [[150 120 100  80  50]\n",
      " [200 180 130  90  60]\n",
      " [250 210 190 150  80]\n",
      " [300 240 220 180 100]\n",
      " [400 310 300 240 130]\n",
      " [350 280 270 220 120]\n",
      " [500 400 350 300 180]]\n"
     ]
    }
   ],
   "source": [
    "print(\"sales data for: Product 3 on Day 4 \",sales_data[2,3])\n",
    "print(\"sales data for: Product 1 \",sales_data[0])\n",
    "print(\"Sales data for last 2 days is \",sales_data[:,-2:])\n",
    "print(\"Sales data for last 2 days is \",sales_data[:3])\n",
    "print(\"Transpose of array: \",sales_data.T)\n"
   ]
  },
  {
   "cell_type": "code",
   "execution_count": null,
   "id": "6681a57d",
   "metadata": {},
   "outputs": [],
   "source": []
  },
  {
   "cell_type": "code",
   "execution_count": null,
   "id": "c11d356e",
   "metadata": {},
   "outputs": [],
   "source": []
  }
 ],
 "metadata": {
  "kernelspec": {
   "display_name": "Python 3 (ipykernel)",
   "language": "python",
   "name": "python3"
  },
  "language_info": {
   "codemirror_mode": {
    "name": "ipython",
    "version": 3
   },
   "file_extension": ".py",
   "mimetype": "text/x-python",
   "name": "python",
   "nbconvert_exporter": "python",
   "pygments_lexer": "ipython3",
   "version": "3.11.5"
  }
 },
 "nbformat": 4,
 "nbformat_minor": 5
}
