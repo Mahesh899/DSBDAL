{
 "cells": [
  {
   "cell_type": "code",
   "execution_count": 58,
   "id": "0cc5d7a0",
   "metadata": {},
   "outputs": [],
   "source": [
    "import pandas as pd"
   ]
  },
  {
   "cell_type": "code",
   "execution_count": 59,
   "id": "0e7d6b51",
   "metadata": {},
   "outputs": [],
   "source": [
    "data = {\n",
    "    \"Match 1\": [45, 60, 20, 80, 55],\n",
    "    \"Match 2\": [30, 50, 40, 90, 65],\n",
    "    \"Match 3\": [70, 20, 35, 60, 40],\n",
    "    \"Match 4\": [25, 45, 15, 100, 75],\n",
    "}\n",
    "players = [\"Player 1\", \"Player 2\", \"Player 3\", \"Player 4\", \"Player 5\"]\n"
   ]
  },
  {
   "cell_type": "code",
   "execution_count": 60,
   "id": "6bbad717",
   "metadata": {},
   "outputs": [
    {
     "name": "stdout",
     "output_type": "stream",
     "text": [
      "First 3 Rows of dataframe:\n",
      "            Match 1  Match 2  Match 3  Match 4\n",
      "Player 1       45       30       70       25\n",
      "Player 2       60       50       20       45\n",
      "Player 3       20       40       35       15\n"
     ]
    }
   ],
   "source": [
    "performance = pd.DataFrame(data, index=players)\n",
    "print(\"First 3 Rows of dataframe:\\n \",performance.head(3))"
   ]
  },
  {
   "cell_type": "code",
   "execution_count": 61,
   "id": "f5471ebd",
   "metadata": {},
   "outputs": [
    {
     "name": "stdout",
     "output_type": "stream",
     "text": [
      "Number of playes and match in dataframe:\n",
      " (5, 4)\n"
     ]
    }
   ],
   "source": [
    "print(\"Number of playes and match in dataframe:\\n\",performance.shape)"
   ]
  },
  {
   "cell_type": "code",
   "execution_count": 62,
   "id": "24fe95ca",
   "metadata": {},
   "outputs": [
    {
     "name": "stdout",
     "output_type": "stream",
     "text": [
      "Match name:  ['Match 1', 'Match 2', 'Match 3', 'Match 4']\n",
      "Players name:  ['Player 1', 'Player 2', 'Player 3', 'Player 4', 'Player 5']\n"
     ]
    }
   ],
   "source": [
    "print(\"Match name: \",performance.columns.tolist())\n",
    "print(\"Players name: \",performance.index.tolist())"
   ]
  },
  {
   "cell_type": "code",
   "execution_count": 63,
   "id": "c423bdde",
   "metadata": {},
   "outputs": [
    {
     "name": "stdout",
     "output_type": "stream",
     "text": [
      "Data types in dataframe:\n",
      " Match 1    int64\n",
      "Match 2    int64\n",
      "Match 3    int64\n",
      "Match 4    int64\n",
      "dtype: object\n"
     ]
    }
   ],
   "source": [
    "print(\"Data types in dataframe:\\n\",performance.dtypes)"
   ]
  },
  {
   "cell_type": "code",
   "execution_count": 64,
   "id": "7b37476b",
   "metadata": {},
   "outputs": [
    {
     "name": "stdout",
     "output_type": "stream",
     "text": [
      "Missing values in dataframe:\n",
      " Match 1    0\n",
      "Match 2    0\n",
      "Match 3    0\n",
      "Match 4    0\n",
      "dtype: int64\n"
     ]
    }
   ],
   "source": [
    "print(\"Missing values in dataframe:\\n\",performance.isnull().sum())"
   ]
  },
  {
   "cell_type": "code",
   "execution_count": 65,
   "id": "fba853a0",
   "metadata": {},
   "outputs": [
    {
     "name": "stdout",
     "output_type": "stream",
     "text": [
      "Score  of 4th player in all matches:\n",
      " Match 1     80\n",
      "Match 2     90\n",
      "Match 3     60\n",
      "Match 4    100\n",
      "Name: Player 4, dtype: int64\n"
     ]
    }
   ],
   "source": [
    "print(\"Score  of 4th player in all matches:\\n\",performance.loc['Player 4'])"
   ]
  },
  {
   "cell_type": "code",
   "execution_count": 66,
   "id": "59035662",
   "metadata": {},
   "outputs": [
    {
     "name": "stdout",
     "output_type": "stream",
     "text": [
      "Score of Match 2:\n",
      " Player 1    30\n",
      "Player 2    50\n",
      "Player 3    40\n",
      "Player 4    90\n",
      "Player 5    65\n",
      "Name: Match 2, dtype: int64\n"
     ]
    }
   ],
   "source": [
    "print(\"Score of Match 2:\\n\",performance['Match 2'])"
   ]
  },
  {
   "cell_type": "code",
   "execution_count": 67,
   "id": "bbfe6e6b",
   "metadata": {},
   "outputs": [
    {
     "name": "stdout",
     "output_type": "stream",
     "text": [
      "Score of Player 1 and Player 3 for Match 1 and Match 4:\n",
      "           Match 1  Match 4\n",
      "Player 1       45       25\n",
      "Player 3       20       15\n"
     ]
    }
   ],
   "source": [
    "print(\"Score of Player 1 and Player 3 for Match 1 and Match 4:\\n\",performance.loc[[\"Player 1\", \"Player 3\"], [\"Match 1\", \"Match 4\"]])"
   ]
  },
  {
   "cell_type": "code",
   "execution_count": 68,
   "id": "ad3662ff",
   "metadata": {},
   "outputs": [
    {
     "name": "stdout",
     "output_type": "stream",
     "text": [
      "Score of first 3 player and 2 matches:\n",
      "           Match 1  Match 2\n",
      "Player 1       45       30\n",
      "Player 2       60       50\n",
      "Player 3       20       40\n"
     ]
    }
   ],
   "source": [
    "print(\"Score of first 3 player and 2 matches:\\n\",performance.iloc[:3,:2])"
   ]
  },
  {
   "cell_type": "code",
   "execution_count": 75,
   "id": "0ef7ac6f",
   "metadata": {},
   "outputs": [
    {
     "name": "stdout",
     "output_type": "stream",
     "text": [
      "Score of Player 5 in Match 3:  50\n"
     ]
    },
    {
     "data": {
      "text/plain": [
       "50"
      ]
     },
     "execution_count": 75,
     "metadata": {},
     "output_type": "execute_result"
    }
   ],
   "source": [
    "print(\"Score of Player 5 in Match 3: \",performance.iloc[4,2])"
   ]
  },
  {
   "cell_type": "code",
   "execution_count": 70,
   "id": "0a840a8f",
   "metadata": {},
   "outputs": [
    {
     "data": {
      "text/html": [
       "<div>\n",
       "<style scoped>\n",
       "    .dataframe tbody tr th:only-of-type {\n",
       "        vertical-align: middle;\n",
       "    }\n",
       "\n",
       "    .dataframe tbody tr th {\n",
       "        vertical-align: top;\n",
       "    }\n",
       "\n",
       "    .dataframe thead th {\n",
       "        text-align: right;\n",
       "    }\n",
       "</style>\n",
       "<table border=\"1\" class=\"dataframe\">\n",
       "  <thead>\n",
       "    <tr style=\"text-align: right;\">\n",
       "      <th></th>\n",
       "      <th>Match 1</th>\n",
       "      <th>Match 2</th>\n",
       "      <th>Match 3</th>\n",
       "      <th>Match 4</th>\n",
       "    </tr>\n",
       "  </thead>\n",
       "  <tbody>\n",
       "    <tr>\n",
       "      <th>Player 1</th>\n",
       "      <td>45</td>\n",
       "      <td>30</td>\n",
       "      <td>70</td>\n",
       "      <td>25</td>\n",
       "    </tr>\n",
       "    <tr>\n",
       "      <th>Player 2</th>\n",
       "      <td>60</td>\n",
       "      <td>50</td>\n",
       "      <td>20</td>\n",
       "      <td>50</td>\n",
       "    </tr>\n",
       "    <tr>\n",
       "      <th>Player 3</th>\n",
       "      <td>20</td>\n",
       "      <td>40</td>\n",
       "      <td>35</td>\n",
       "      <td>15</td>\n",
       "    </tr>\n",
       "    <tr>\n",
       "      <th>Player 4</th>\n",
       "      <td>80</td>\n",
       "      <td>90</td>\n",
       "      <td>60</td>\n",
       "      <td>100</td>\n",
       "    </tr>\n",
       "    <tr>\n",
       "      <th>Player 5</th>\n",
       "      <td>55</td>\n",
       "      <td>65</td>\n",
       "      <td>40</td>\n",
       "      <td>75</td>\n",
       "    </tr>\n",
       "  </tbody>\n",
       "</table>\n",
       "</div>"
      ],
      "text/plain": [
       "          Match 1  Match 2  Match 3  Match 4\n",
       "Player 1       45       30       70       25\n",
       "Player 2       60       50       20       50\n",
       "Player 3       20       40       35       15\n",
       "Player 4       80       90       60      100\n",
       "Player 5       55       65       40       75"
      ]
     },
     "execution_count": 70,
     "metadata": {},
     "output_type": "execute_result"
    }
   ],
   "source": [
    "\n",
    "performance.iloc[1,3]=50\n",
    "performance"
   ]
  },
  {
   "cell_type": "code",
   "execution_count": 71,
   "id": "d728d010",
   "metadata": {},
   "outputs": [
    {
     "data": {
      "text/html": [
       "<div>\n",
       "<style scoped>\n",
       "    .dataframe tbody tr th:only-of-type {\n",
       "        vertical-align: middle;\n",
       "    }\n",
       "\n",
       "    .dataframe tbody tr th {\n",
       "        vertical-align: top;\n",
       "    }\n",
       "\n",
       "    .dataframe thead th {\n",
       "        text-align: right;\n",
       "    }\n",
       "</style>\n",
       "<table border=\"1\" class=\"dataframe\">\n",
       "  <thead>\n",
       "    <tr style=\"text-align: right;\">\n",
       "      <th></th>\n",
       "      <th>Match 1</th>\n",
       "      <th>Match 2</th>\n",
       "      <th>Match 3</th>\n",
       "      <th>Match 4</th>\n",
       "    </tr>\n",
       "  </thead>\n",
       "  <tbody>\n",
       "    <tr>\n",
       "      <th>Player 1</th>\n",
       "      <td>45</td>\n",
       "      <td>30</td>\n",
       "      <td>70</td>\n",
       "      <td>25</td>\n",
       "    </tr>\n",
       "    <tr>\n",
       "      <th>Player 2</th>\n",
       "      <td>60</td>\n",
       "      <td>50</td>\n",
       "      <td>20</td>\n",
       "      <td>50</td>\n",
       "    </tr>\n",
       "    <tr>\n",
       "      <th>Player 3</th>\n",
       "      <td>20</td>\n",
       "      <td>40</td>\n",
       "      <td>35</td>\n",
       "      <td>15</td>\n",
       "    </tr>\n",
       "    <tr>\n",
       "      <th>Player 4</th>\n",
       "      <td>80</td>\n",
       "      <td>90</td>\n",
       "      <td>60</td>\n",
       "      <td>100</td>\n",
       "    </tr>\n",
       "    <tr>\n",
       "      <th>Player 5</th>\n",
       "      <td>55</td>\n",
       "      <td>65</td>\n",
       "      <td>40</td>\n",
       "      <td>75</td>\n",
       "    </tr>\n",
       "    <tr>\n",
       "      <th>Player 6</th>\n",
       "      <td>50</td>\n",
       "      <td>40</td>\n",
       "      <td>60</td>\n",
       "      <td>70</td>\n",
       "    </tr>\n",
       "  </tbody>\n",
       "</table>\n",
       "</div>"
      ],
      "text/plain": [
       "          Match 1  Match 2  Match 3  Match 4\n",
       "Player 1       45       30       70       25\n",
       "Player 2       60       50       20       50\n",
       "Player 3       20       40       35       15\n",
       "Player 4       80       90       60      100\n",
       "Player 5       55       65       40       75\n",
       "Player 6       50       40       60       70"
      ]
     },
     "execution_count": 71,
     "metadata": {},
     "output_type": "execute_result"
    }
   ],
   "source": [
    "performance.loc[\"Player 6\"]=[50, 40, 60, 70]\n",
    "performance "
   ]
  },
  {
   "cell_type": "code",
   "execution_count": 72,
   "id": "4a574c12",
   "metadata": {},
   "outputs": [
    {
     "data": {
      "text/html": [
       "<div>\n",
       "<style scoped>\n",
       "    .dataframe tbody tr th:only-of-type {\n",
       "        vertical-align: middle;\n",
       "    }\n",
       "\n",
       "    .dataframe tbody tr th {\n",
       "        vertical-align: top;\n",
       "    }\n",
       "\n",
       "    .dataframe thead th {\n",
       "        text-align: right;\n",
       "    }\n",
       "</style>\n",
       "<table border=\"1\" class=\"dataframe\">\n",
       "  <thead>\n",
       "    <tr style=\"text-align: right;\">\n",
       "      <th></th>\n",
       "      <th>Match 1</th>\n",
       "      <th>Match 2</th>\n",
       "      <th>Match 3</th>\n",
       "      <th>Match 4</th>\n",
       "    </tr>\n",
       "  </thead>\n",
       "  <tbody>\n",
       "    <tr>\n",
       "      <th>Player 1</th>\n",
       "      <td>55</td>\n",
       "      <td>40</td>\n",
       "      <td>80</td>\n",
       "      <td>35</td>\n",
       "    </tr>\n",
       "    <tr>\n",
       "      <th>Player 2</th>\n",
       "      <td>70</td>\n",
       "      <td>60</td>\n",
       "      <td>30</td>\n",
       "      <td>60</td>\n",
       "    </tr>\n",
       "    <tr>\n",
       "      <th>Player 3</th>\n",
       "      <td>30</td>\n",
       "      <td>50</td>\n",
       "      <td>45</td>\n",
       "      <td>25</td>\n",
       "    </tr>\n",
       "    <tr>\n",
       "      <th>Player 4</th>\n",
       "      <td>90</td>\n",
       "      <td>100</td>\n",
       "      <td>70</td>\n",
       "      <td>110</td>\n",
       "    </tr>\n",
       "    <tr>\n",
       "      <th>Player 5</th>\n",
       "      <td>65</td>\n",
       "      <td>75</td>\n",
       "      <td>50</td>\n",
       "      <td>85</td>\n",
       "    </tr>\n",
       "    <tr>\n",
       "      <th>Player 6</th>\n",
       "      <td>60</td>\n",
       "      <td>50</td>\n",
       "      <td>70</td>\n",
       "      <td>80</td>\n",
       "    </tr>\n",
       "  </tbody>\n",
       "</table>\n",
       "</div>"
      ],
      "text/plain": [
       "          Match 1  Match 2  Match 3  Match 4\n",
       "Player 1       55       40       80       35\n",
       "Player 2       70       60       30       60\n",
       "Player 3       30       50       45       25\n",
       "Player 4       90      100       70      110\n",
       "Player 5       65       75       50       85\n",
       "Player 6       60       50       70       80"
      ]
     },
     "execution_count": 72,
     "metadata": {},
     "output_type": "execute_result"
    }
   ],
   "source": [
    "performance += 10\n",
    "performance"
   ]
  },
  {
   "cell_type": "code",
   "execution_count": 73,
   "id": "e9571552",
   "metadata": {},
   "outputs": [
    {
     "data": {
      "text/html": [
       "<div>\n",
       "<style scoped>\n",
       "    .dataframe tbody tr th:only-of-type {\n",
       "        vertical-align: middle;\n",
       "    }\n",
       "\n",
       "    .dataframe tbody tr th {\n",
       "        vertical-align: top;\n",
       "    }\n",
       "\n",
       "    .dataframe thead th {\n",
       "        text-align: right;\n",
       "    }\n",
       "</style>\n",
       "<table border=\"1\" class=\"dataframe\">\n",
       "  <thead>\n",
       "    <tr style=\"text-align: right;\">\n",
       "      <th></th>\n",
       "      <th>Match 1</th>\n",
       "      <th>Match 2</th>\n",
       "      <th>Match 3</th>\n",
       "      <th>Match 4</th>\n",
       "    </tr>\n",
       "  </thead>\n",
       "  <tbody>\n",
       "    <tr>\n",
       "      <th>Player 1</th>\n",
       "      <td>55</td>\n",
       "      <td>40</td>\n",
       "      <td>80</td>\n",
       "      <td>35</td>\n",
       "    </tr>\n",
       "    <tr>\n",
       "      <th>Player 2</th>\n",
       "      <td>70</td>\n",
       "      <td>60</td>\n",
       "      <td>30</td>\n",
       "      <td>60</td>\n",
       "    </tr>\n",
       "    <tr>\n",
       "      <th>Player 3</th>\n",
       "      <td>25</td>\n",
       "      <td>45</td>\n",
       "      <td>40</td>\n",
       "      <td>20</td>\n",
       "    </tr>\n",
       "    <tr>\n",
       "      <th>Player 4</th>\n",
       "      <td>90</td>\n",
       "      <td>100</td>\n",
       "      <td>70</td>\n",
       "      <td>110</td>\n",
       "    </tr>\n",
       "    <tr>\n",
       "      <th>Player 5</th>\n",
       "      <td>65</td>\n",
       "      <td>75</td>\n",
       "      <td>50</td>\n",
       "      <td>85</td>\n",
       "    </tr>\n",
       "    <tr>\n",
       "      <th>Player 6</th>\n",
       "      <td>60</td>\n",
       "      <td>50</td>\n",
       "      <td>70</td>\n",
       "      <td>80</td>\n",
       "    </tr>\n",
       "  </tbody>\n",
       "</table>\n",
       "</div>"
      ],
      "text/plain": [
       "          Match 1  Match 2  Match 3  Match 4\n",
       "Player 1       55       40       80       35\n",
       "Player 2       70       60       30       60\n",
       "Player 3       25       45       40       20\n",
       "Player 4       90      100       70      110\n",
       "Player 5       65       75       50       85\n",
       "Player 6       60       50       70       80"
      ]
     },
     "execution_count": 73,
     "metadata": {},
     "output_type": "execute_result"
    }
   ],
   "source": [
    "performance.loc[\"Player 3\"] -= 5\n",
    "performance\n"
   ]
  },
  {
   "cell_type": "code",
   "execution_count": 74,
   "id": "c149a29a",
   "metadata": {},
   "outputs": [
    {
     "data": {
      "text/html": [
       "<div>\n",
       "<style scoped>\n",
       "    .dataframe tbody tr th:only-of-type {\n",
       "        vertical-align: middle;\n",
       "    }\n",
       "\n",
       "    .dataframe tbody tr th {\n",
       "        vertical-align: top;\n",
       "    }\n",
       "\n",
       "    .dataframe thead th {\n",
       "        text-align: right;\n",
       "    }\n",
       "</style>\n",
       "<table border=\"1\" class=\"dataframe\">\n",
       "  <thead>\n",
       "    <tr style=\"text-align: right;\">\n",
       "      <th></th>\n",
       "      <th>Match 1</th>\n",
       "      <th>Match 2</th>\n",
       "      <th>Match 3</th>\n",
       "      <th>Match 4</th>\n",
       "    </tr>\n",
       "  </thead>\n",
       "  <tbody>\n",
       "    <tr>\n",
       "      <th>Player 1</th>\n",
       "      <td>45.833333</td>\n",
       "      <td>33.333333</td>\n",
       "      <td>66.666667</td>\n",
       "      <td>29.166667</td>\n",
       "    </tr>\n",
       "    <tr>\n",
       "      <th>Player 2</th>\n",
       "      <td>58.333333</td>\n",
       "      <td>50.000000</td>\n",
       "      <td>25.000000</td>\n",
       "      <td>50.000000</td>\n",
       "    </tr>\n",
       "    <tr>\n",
       "      <th>Player 3</th>\n",
       "      <td>20.833333</td>\n",
       "      <td>37.500000</td>\n",
       "      <td>33.333333</td>\n",
       "      <td>16.666667</td>\n",
       "    </tr>\n",
       "    <tr>\n",
       "      <th>Player 4</th>\n",
       "      <td>75.000000</td>\n",
       "      <td>83.333333</td>\n",
       "      <td>58.333333</td>\n",
       "      <td>91.666667</td>\n",
       "    </tr>\n",
       "    <tr>\n",
       "      <th>Player 5</th>\n",
       "      <td>54.166667</td>\n",
       "      <td>62.500000</td>\n",
       "      <td>41.666667</td>\n",
       "      <td>70.833333</td>\n",
       "    </tr>\n",
       "    <tr>\n",
       "      <th>Player 6</th>\n",
       "      <td>50.000000</td>\n",
       "      <td>41.666667</td>\n",
       "      <td>58.333333</td>\n",
       "      <td>66.666667</td>\n",
       "    </tr>\n",
       "  </tbody>\n",
       "</table>\n",
       "</div>"
      ],
      "text/plain": [
       "            Match 1    Match 2    Match 3    Match 4\n",
       "Player 1  45.833333  33.333333  66.666667  29.166667\n",
       "Player 2  58.333333  50.000000  25.000000  50.000000\n",
       "Player 3  20.833333  37.500000  33.333333  16.666667\n",
       "Player 4  75.000000  83.333333  58.333333  91.666667\n",
       "Player 5  54.166667  62.500000  41.666667  70.833333\n",
       "Player 6  50.000000  41.666667  58.333333  66.666667"
      ]
     },
     "execution_count": 74,
     "metadata": {},
     "output_type": "execute_result"
    }
   ],
   "source": [
    "percentage=performance / 120 * 100\n",
    "percentage"
   ]
  },
  {
   "cell_type": "code",
   "execution_count": 77,
   "id": "ed5878ba",
   "metadata": {},
   "outputs": [
    {
     "data": {
      "text/plain": [
       "Player 1    210\n",
       "Player 2    220\n",
       "Player 3    130\n",
       "Player 4    370\n",
       "Player 5    275\n",
       "Player 6    260\n",
       "dtype: int64"
      ]
     },
     "execution_count": 77,
     "metadata": {},
     "output_type": "execute_result"
    }
   ],
   "source": [
    "total=performance.sum(axis=1)\n",
    "total"
   ]
  },
  {
   "cell_type": "code",
   "execution_count": 80,
   "id": "93104bf2",
   "metadata": {},
   "outputs": [
    {
     "data": {
      "text/plain": [
       "Match 1    365\n",
       "Match 2    370\n",
       "Match 3    340\n",
       "Match 4    390\n",
       "dtype: int64"
      ]
     },
     "execution_count": 80,
     "metadata": {},
     "output_type": "execute_result"
    }
   ],
   "source": [
    "runsPerMatch=performance.sum(axis=0)\n",
    "runsPerMatch"
   ]
  },
  {
   "cell_type": "code",
   "execution_count": 82,
   "id": "f99f7044",
   "metadata": {},
   "outputs": [
    {
     "data": {
      "text/plain": [
       "'Player 4'"
      ]
     },
     "execution_count": 82,
     "metadata": {},
     "output_type": "execute_result"
    }
   ],
   "source": [
    "highestRuns=total.idxmax()\n",
    "highestRuns"
   ]
  },
  {
   "cell_type": "code",
   "execution_count": 83,
   "id": "29b3ad7c",
   "metadata": {},
   "outputs": [
    {
     "data": {
      "text/plain": [
       "'Player 3'"
      ]
     },
     "execution_count": 83,
     "metadata": {},
     "output_type": "execute_result"
    }
   ],
   "source": [
    "MinRuns=total.idxmin()\n",
    "MinRuns"
   ]
  },
  {
   "cell_type": "code",
   "execution_count": 84,
   "id": "a3049f81",
   "metadata": {},
   "outputs": [
    {
     "data": {
      "text/plain": [
       "Player 1    52.50\n",
       "Player 2    55.00\n",
       "Player 3    32.50\n",
       "Player 4    92.50\n",
       "Player 5    68.75\n",
       "Player 6    65.00\n",
       "dtype: float64"
      ]
     },
     "execution_count": 84,
     "metadata": {},
     "output_type": "execute_result"
    }
   ],
   "source": [
    "average=performance.mean(axis=1)\n",
    "average"
   ]
  },
  {
   "cell_type": "code",
   "execution_count": 85,
   "id": "6ffdc780",
   "metadata": {},
   "outputs": [
    {
     "data": {
      "text/html": [
       "<div>\n",
       "<style scoped>\n",
       "    .dataframe tbody tr th:only-of-type {\n",
       "        vertical-align: middle;\n",
       "    }\n",
       "\n",
       "    .dataframe tbody tr th {\n",
       "        vertical-align: top;\n",
       "    }\n",
       "\n",
       "    .dataframe thead th {\n",
       "        text-align: right;\n",
       "    }\n",
       "</style>\n",
       "<table border=\"1\" class=\"dataframe\">\n",
       "  <thead>\n",
       "    <tr style=\"text-align: right;\">\n",
       "      <th></th>\n",
       "      <th>Match 1</th>\n",
       "      <th>Match 2</th>\n",
       "      <th>Match 3</th>\n",
       "      <th>Match 4</th>\n",
       "      <th>Total Runs</th>\n",
       "    </tr>\n",
       "  </thead>\n",
       "  <tbody>\n",
       "    <tr>\n",
       "      <th>Player 1</th>\n",
       "      <td>55</td>\n",
       "      <td>40</td>\n",
       "      <td>80</td>\n",
       "      <td>35</td>\n",
       "      <td>210</td>\n",
       "    </tr>\n",
       "    <tr>\n",
       "      <th>Player 2</th>\n",
       "      <td>70</td>\n",
       "      <td>60</td>\n",
       "      <td>30</td>\n",
       "      <td>60</td>\n",
       "      <td>220</td>\n",
       "    </tr>\n",
       "    <tr>\n",
       "      <th>Player 3</th>\n",
       "      <td>25</td>\n",
       "      <td>45</td>\n",
       "      <td>40</td>\n",
       "      <td>20</td>\n",
       "      <td>130</td>\n",
       "    </tr>\n",
       "    <tr>\n",
       "      <th>Player 4</th>\n",
       "      <td>90</td>\n",
       "      <td>100</td>\n",
       "      <td>70</td>\n",
       "      <td>110</td>\n",
       "      <td>370</td>\n",
       "    </tr>\n",
       "    <tr>\n",
       "      <th>Player 5</th>\n",
       "      <td>65</td>\n",
       "      <td>75</td>\n",
       "      <td>50</td>\n",
       "      <td>85</td>\n",
       "      <td>275</td>\n",
       "    </tr>\n",
       "    <tr>\n",
       "      <th>Player 6</th>\n",
       "      <td>60</td>\n",
       "      <td>50</td>\n",
       "      <td>70</td>\n",
       "      <td>80</td>\n",
       "      <td>260</td>\n",
       "    </tr>\n",
       "  </tbody>\n",
       "</table>\n",
       "</div>"
      ],
      "text/plain": [
       "          Match 1  Match 2  Match 3  Match 4  Total Runs\n",
       "Player 1       55       40       80       35         210\n",
       "Player 2       70       60       30       60         220\n",
       "Player 3       25       45       40       20         130\n",
       "Player 4       90      100       70      110         370\n",
       "Player 5       65       75       50       85         275\n",
       "Player 6       60       50       70       80         260"
      ]
     },
     "execution_count": 85,
     "metadata": {},
     "output_type": "execute_result"
    }
   ],
   "source": [
    "performance[\"Total Runs\"] = total\n",
    "performance\n"
   ]
  },
  {
   "cell_type": "code",
   "execution_count": 86,
   "id": "6514f1da",
   "metadata": {},
   "outputs": [
    {
     "data": {
      "text/html": [
       "<div>\n",
       "<style scoped>\n",
       "    .dataframe tbody tr th:only-of-type {\n",
       "        vertical-align: middle;\n",
       "    }\n",
       "\n",
       "    .dataframe tbody tr th {\n",
       "        vertical-align: top;\n",
       "    }\n",
       "\n",
       "    .dataframe thead th {\n",
       "        text-align: right;\n",
       "    }\n",
       "</style>\n",
       "<table border=\"1\" class=\"dataframe\">\n",
       "  <thead>\n",
       "    <tr style=\"text-align: right;\">\n",
       "      <th></th>\n",
       "      <th>Match 1</th>\n",
       "      <th>Match 2</th>\n",
       "      <th>Match 3</th>\n",
       "      <th>Match 4</th>\n",
       "      <th>Total Runs</th>\n",
       "    </tr>\n",
       "  </thead>\n",
       "  <tbody>\n",
       "    <tr>\n",
       "      <th>Player 4</th>\n",
       "      <td>90</td>\n",
       "      <td>100</td>\n",
       "      <td>70</td>\n",
       "      <td>110</td>\n",
       "      <td>370</td>\n",
       "    </tr>\n",
       "    <tr>\n",
       "      <th>Player 5</th>\n",
       "      <td>65</td>\n",
       "      <td>75</td>\n",
       "      <td>50</td>\n",
       "      <td>85</td>\n",
       "      <td>275</td>\n",
       "    </tr>\n",
       "    <tr>\n",
       "      <th>Player 6</th>\n",
       "      <td>60</td>\n",
       "      <td>50</td>\n",
       "      <td>70</td>\n",
       "      <td>80</td>\n",
       "      <td>260</td>\n",
       "    </tr>\n",
       "    <tr>\n",
       "      <th>Player 2</th>\n",
       "      <td>70</td>\n",
       "      <td>60</td>\n",
       "      <td>30</td>\n",
       "      <td>60</td>\n",
       "      <td>220</td>\n",
       "    </tr>\n",
       "    <tr>\n",
       "      <th>Player 1</th>\n",
       "      <td>55</td>\n",
       "      <td>40</td>\n",
       "      <td>80</td>\n",
       "      <td>35</td>\n",
       "      <td>210</td>\n",
       "    </tr>\n",
       "    <tr>\n",
       "      <th>Player 3</th>\n",
       "      <td>25</td>\n",
       "      <td>45</td>\n",
       "      <td>40</td>\n",
       "      <td>20</td>\n",
       "      <td>130</td>\n",
       "    </tr>\n",
       "  </tbody>\n",
       "</table>\n",
       "</div>"
      ],
      "text/plain": [
       "          Match 1  Match 2  Match 3  Match 4  Total Runs\n",
       "Player 4       90      100       70      110         370\n",
       "Player 5       65       75       50       85         275\n",
       "Player 6       60       50       70       80         260\n",
       "Player 2       70       60       30       60         220\n",
       "Player 1       55       40       80       35         210\n",
       "Player 3       25       45       40       20         130"
      ]
     },
     "execution_count": 86,
     "metadata": {},
     "output_type": "execute_result"
    }
   ],
   "source": [
    "sortedPerformance=performance.sort_values(by=\"Total Runs\", ascending=False)\n",
    "sortedPerformance"
   ]
  },
  {
   "cell_type": "code",
   "execution_count": 87,
   "id": "50cddc88",
   "metadata": {},
   "outputs": [
    {
     "data": {
      "text/html": [
       "<div>\n",
       "<style scoped>\n",
       "    .dataframe tbody tr th:only-of-type {\n",
       "        vertical-align: middle;\n",
       "    }\n",
       "\n",
       "    .dataframe tbody tr th {\n",
       "        vertical-align: top;\n",
       "    }\n",
       "\n",
       "    .dataframe thead th {\n",
       "        text-align: right;\n",
       "    }\n",
       "</style>\n",
       "<table border=\"1\" class=\"dataframe\">\n",
       "  <thead>\n",
       "    <tr style=\"text-align: right;\">\n",
       "      <th></th>\n",
       "      <th>Match 1</th>\n",
       "      <th>Match 2</th>\n",
       "      <th>Match 3</th>\n",
       "      <th>Match 4</th>\n",
       "      <th>Total Runs</th>\n",
       "    </tr>\n",
       "  </thead>\n",
       "  <tbody>\n",
       "    <tr>\n",
       "      <th>Player 1</th>\n",
       "      <td>55</td>\n",
       "      <td>40</td>\n",
       "      <td>80</td>\n",
       "      <td>35</td>\n",
       "      <td>210</td>\n",
       "    </tr>\n",
       "    <tr>\n",
       "      <th>Player 2</th>\n",
       "      <td>70</td>\n",
       "      <td>60</td>\n",
       "      <td>30</td>\n",
       "      <td>60</td>\n",
       "      <td>220</td>\n",
       "    </tr>\n",
       "    <tr>\n",
       "      <th>Player 4</th>\n",
       "      <td>90</td>\n",
       "      <td>100</td>\n",
       "      <td>70</td>\n",
       "      <td>110</td>\n",
       "      <td>370</td>\n",
       "    </tr>\n",
       "    <tr>\n",
       "      <th>Player 5</th>\n",
       "      <td>65</td>\n",
       "      <td>75</td>\n",
       "      <td>50</td>\n",
       "      <td>85</td>\n",
       "      <td>275</td>\n",
       "    </tr>\n",
       "    <tr>\n",
       "      <th>Player 6</th>\n",
       "      <td>60</td>\n",
       "      <td>50</td>\n",
       "      <td>70</td>\n",
       "      <td>80</td>\n",
       "      <td>260</td>\n",
       "    </tr>\n",
       "  </tbody>\n",
       "</table>\n",
       "</div>"
      ],
      "text/plain": [
       "          Match 1  Match 2  Match 3  Match 4  Total Runs\n",
       "Player 1       55       40       80       35         210\n",
       "Player 2       70       60       30       60         220\n",
       "Player 4       90      100       70      110         370\n",
       "Player 5       65       75       50       85         275\n",
       "Player 6       60       50       70       80         260"
      ]
     },
     "execution_count": 87,
     "metadata": {},
     "output_type": "execute_result"
    }
   ],
   "source": [
    "performance[performance[\"Total Runs\"] > 200]"
   ]
  },
  {
   "cell_type": "code",
   "execution_count": null,
   "id": "554f7243",
   "metadata": {},
   "outputs": [],
   "source": []
  }
 ],
 "metadata": {
  "kernelspec": {
   "display_name": "Python 3 (ipykernel)",
   "language": "python",
   "name": "python3"
  },
  "language_info": {
   "codemirror_mode": {
    "name": "ipython",
    "version": 3
   },
   "file_extension": ".py",
   "mimetype": "text/x-python",
   "name": "python",
   "nbconvert_exporter": "python",
   "pygments_lexer": "ipython3",
   "version": "3.11.5"
  }
 },
 "nbformat": 4,
 "nbformat_minor": 5
}
